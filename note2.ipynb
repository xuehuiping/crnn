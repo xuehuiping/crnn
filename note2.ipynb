{
 "cells": [
  {
   "cell_type": "markdown",
   "metadata": {},
   "source": [
    "数据集`ICPR-MTWI-REC`，解压后为`/recognition/train/`"
   ]
  },
  {
   "cell_type": "code",
   "execution_count": null,
   "metadata": {},
   "outputs": [],
   "source": [
    "# 从重新整理gt.txt数据\n",
    "\n",
    "# -*- coding: utf-8 -*-\n",
    "# author: huihui\n",
    "# date: 2020/12/20 9:31 下午 \n",
    "\n",
    "'''抽取gt文件'''\n",
    "\n",
    "lines = open('/Users/huihui/data/ocrinaction/ICPR-MTWI-REC/gt.txt').readlines()\n",
    "\n",
    "with open('/Users/huihui/data/recognition/train/gt.txt','w') as f:\n",
    "    for line in lines:\n",
    "        print(line)\n",
    "        line = line.replace('recognition/train/','')\n",
    "        f.write(line)\n",
    "        # break\n"
   ]
  },
  {
   "cell_type": "code",
   "execution_count": null,
   "metadata": {},
   "outputs": [],
   "source": [
    "\n",
    "# -*- coding: utf-8 -*-\n",
    "# author: huihui\n",
    "# date: 2020/12/20 8:46 下午 \n",
    "'''抽取alphabet2'''\n",
    "\n",
    "lines = open('/Users/huihui/data/ocrinaction/ICPR-MTWI-REC/gt.txt').readlines()\n",
    "alphabet = \"\"\n",
    "texts = []\n",
    "for line in lines:\n",
    "    print(line)\n",
    "    text = line.strip().split(', ')[-2]\n",
    "    print(text)\n",
    "    texts.append(text)\n",
    "    for t in text:\n",
    "        if t not in alphabet:\n",
    "            alphabet += t\n",
    "\n",
    "print('\\n\\n\\n所有文本：')\n",
    "for text in texts:\n",
    "    print(text)\n",
    "\n",
    "print('\\n\\n\\n所有字符：')\n",
    "print(alphabet)\n",
    "with open('alphabet2.txt','w') as f:\n",
    "    f.write(alphabet)"
   ]
  },
  {
   "cell_type": "markdown",
   "metadata": {},
   "source": [
    "训练\n",
    "\n",
    "```\n",
    "python train.py \\\n",
    "--trainroot /Users/huihui/data/recognition/train/ \\\n",
    "--valroot /Users/huihui/data/recognition/train/ \\\n",
    "--cuda \\\n",
    "--expr_dir expr2  >> log.train.2.12.20.txt & \n",
    "```\n",
    "\n",
    "后台运行\n"
   ]
  },
  {
   "cell_type": "code",
   "execution_count": null,
   "metadata": {},
   "outputs": [],
   "source": [
    "\n",
    "import os\n",
    "import random\n",
    "\n",
    "folder = '/Users/huihui/data/recognition/train/'\n",
    "names = os.listdir(folder)\n",
    "names = [name for name in names if name.endswith('.jpg')]\n",
    "name = random.choice(names)\n",
    "print(folder + name)\n",
    "\n",
    "file_name = folder + name\n",
    "\n",
    "import matplotlib.pyplot as plt\n",
    "%matplotlib inline\n",
    "\n",
    "img = plt.imread(file_name)  \n",
    "plt.imshow(img)  \n",
    "plt.show()"
   ]
  },
  {
   "cell_type": "code",
   "execution_count": null,
   "metadata": {},
   "outputs": [],
   "source": [
    "!print $file_name\n",
    "!python demo2.py --img_path $file_name --model_path expr2/CRNN_0.pth"
   ]
  },
  {
   "cell_type": "code",
   "execution_count": null,
   "metadata": {},
   "outputs": [],
   "source": []
  }
 ],
 "metadata": {
  "kernelspec": {
   "display_name": "Python 3",
   "language": "python",
   "name": "python3"
  },
  "language_info": {
   "codemirror_mode": {
    "name": "ipython",
    "version": 3
   },
   "file_extension": ".py",
   "mimetype": "text/x-python",
   "name": "python",
   "nbconvert_exporter": "python",
   "pygments_lexer": "ipython3",
   "version": "3.8.3"
  }
 },
 "nbformat": 4,
 "nbformat_minor": 4
}
